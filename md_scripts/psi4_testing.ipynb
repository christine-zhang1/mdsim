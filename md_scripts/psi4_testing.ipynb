{
 "cells": [
  {
   "cell_type": "code",
   "execution_count": 8,
   "metadata": {},
   "outputs": [],
   "source": [
    "import random\n",
    "from ase import Atoms\n",
    "from ase.calculators.psi4 import Psi4\n",
    "from ase.io import Trajectory\n",
    "from pathlib import Path\n",
    "import matplotlib.pyplot as plt\n",
    "from mdsim.datasets.lmdb_dataset import LmdbDataset\n",
    "import numpy as np\n",
    "\n",
    "random.seed(88)"
   ]
  },
  {
   "cell_type": "code",
   "execution_count": 2,
   "metadata": {},
   "outputs": [],
   "source": [
    "# copied this over from ase_utils\n",
    "def data_to_atoms(data):\n",
    "    numbers = data.atomic_numbers\n",
    "    positions = data.pos\n",
    "    cell = data.cell.squeeze()\n",
    "    atoms = Atoms(numbers=numbers.cpu().detach().numpy(), \n",
    "                  positions=positions.cpu().detach().numpy(), \n",
    "                  cell=cell.cpu().detach().numpy(),\n",
    "                  pbc=[True, True, True])\n",
    "    return atoms\n",
    "\n",
    "def get_overall_energy(atoms):\n",
    "    \"\"\"\n",
    "    Calculate the overall energy of the system from the elements and their respective energies.\n",
    "    \"\"\"\n",
    "    # list of valid elements and their respective energies\n",
    "    valid_elem = {35: -70045.28385080204,  # Br\n",
    "                  6: -1030.5671648271828,  # C\n",
    "                  17: -12522.649269035726,  # Cl\n",
    "                  9: -2715.318528602957,  # F\n",
    "                  1: -13.571964772646918,  # H\n",
    "                  53: -8102.524593409054,  # I\n",
    "                  7: -1486.3750255780376,  # N\n",
    "                  8: -2043.933693071156,  # O\n",
    "                  15: -9287.407133426237,  # P\n",
    "                  16: -10834.4844708122}  # S\n",
    "    \n",
    "    total = 0\n",
    "    for an in atoms.get_atomic_numbers():\n",
    "        if an in valid_elem:\n",
    "            total += valid_elem[an]\n",
    "    return total"
   ]
  },
  {
   "cell_type": "code",
   "execution_count": 3,
   "metadata": {},
   "outputs": [],
   "source": [
    "def get_atoms(from_dataset, init_idx=None):\n",
    "    if from_dataset:\n",
    "        # get the molecule from the dataset\n",
    "        # test_dataset = LmdbDataset({'src': '/data/shared/md17/aspirin/10k/test'})\n",
    "        test_dataset = LmdbDataset({'src': '/data/shared/MLFF/SPICE/maceoff_split/test'})\n",
    "        if init_idx is None:\n",
    "            init_idx = random.randint(0, len(test_dataset))\n",
    "        init_data = test_dataset[init_idx]\n",
    "        atoms = data_to_atoms(init_data)\n",
    "        print(f\"reference energy {init_data.reference_energy}\")\n",
    "    else:\n",
    "        # get atoms from the trajectory file from the simulation\n",
    "        md_dir = Path('../MODELPATH/maceoff_split_gemnet_dT_results/md_25ps_123_init_8888')\n",
    "        traj = Trajectory(md_dir / 'atoms.traj')\n",
    "        atoms = traj[1] # gets unstable very quick\n",
    "    print(f'overall energy from atoms {get_overall_energy(atoms)}')\n",
    "    return atoms"
   ]
  },
  {
   "cell_type": "code",
   "execution_count": 5,
   "metadata": {},
   "outputs": [],
   "source": [
    "# find benzene\n",
    "test_dataset = LmdbDataset({'src': '/data/shared/MLFF/SPICE/maceoff_split/test'})\n",
    "seen = set()\n",
    "with open('str_atoms_leq_6.txt', 'w') as f:\n",
    "    for i in range(len(test_dataset)):\n",
    "        init_data = test_dataset[i]\n",
    "        atoms = data_to_atoms(init_data)\n",
    "        if len(str(atoms.symbols)) <= 6 and str(atoms.symbols) not in seen:\n",
    "            seen.add(str(atoms.symbols))\n",
    "            f.write(f'{i} {str(atoms.symbols)}\\n')"
   ]
  },
  {
   "cell_type": "code",
   "execution_count": null,
   "metadata": {},
   "outputs": [],
   "source": [
    "atoms = get_atoms(from_dataset=True, init_idx=8888)"
   ]
  },
  {
   "cell_type": "code",
   "execution_count": 9,
   "metadata": {},
   "outputs": [
    {
     "name": "stdout",
     "output_type": "stream",
     "text": [
      "501\n"
     ]
    }
   ],
   "source": [
    "traj = Trajectory('testing_atoms_1211.traj')\n",
    "print(len(traj))\n",
    "atoms = traj[-1]"
   ]
  },
  {
   "cell_type": "code",
   "execution_count": 10,
   "metadata": {},
   "outputs": [],
   "source": [
    "# md17 aspirin settings, with coupled cluster\n",
    "# calc = Psi4(atoms = atoms,\n",
    "#         method = 'ccsd',\n",
    "#         memory = '2GB',\n",
    "#         basis = 'cc-pvdz')\n",
    "\n",
    "# the spice settings\n",
    "calc = Psi4(atoms = atoms,\n",
    "        method = 'wB97M-D3BJ',\n",
    "        memory = '2GB',\n",
    "        basis = 'def2-TZVPPD')"
   ]
  },
  {
   "cell_type": "code",
   "execution_count": 11,
   "metadata": {},
   "outputs": [
    {
     "name": "stdout",
     "output_type": "stream",
     "text": [
      "-110568.68119073089\n"
     ]
    }
   ],
   "source": [
    "atoms.calc = calc\n",
    "pe = atoms.get_potential_energy()\n",
    "# forces = atoms.get_forces()\n",
    "print(pe)\n",
    "# print(forces)"
   ]
  },
  {
   "cell_type": "code",
   "execution_count": 14,
   "metadata": {},
   "outputs": [
    {
     "data": {
      "text/plain": [
       "-10.212542954832315"
      ]
     },
     "execution_count": 14,
     "metadata": {},
     "output_type": "execute_result"
    }
   ],
   "source": [
    "# this is for init idx 1211\n",
    "traj_0_energy = -110568.67097818793\n",
    "traj_last_energy = -110568.68119073089\n",
    "(traj_last_energy - traj_0_energy) * 1000"
   ]
  },
  {
   "cell_type": "code",
   "execution_count": 2,
   "metadata": {},
   "outputs": [
    {
     "data": {
      "text/plain": [
       "227.1663288338459"
      ]
     },
     "execution_count": 2,
     "metadata": {},
     "output_type": "execute_result"
    }
   ],
   "source": [
    "# this is for init idx 2886\n",
    "traj_0_energy = -22155.20406908426\n",
    "traj_last_energy = -22154.976902755425\n",
    "-22154.976902755425\n",
    "(traj_last_energy - traj_0_energy) * 1000"
   ]
  },
  {
   "cell_type": "code",
   "execution_count": 3,
   "metadata": {},
   "outputs": [
    {
     "data": {
      "text/plain": [
       "89.92978262540419"
      ]
     },
     "execution_count": 3,
     "metadata": {},
     "output_type": "execute_result"
    }
   ],
   "source": [
    "# this is for init idx 7738\n",
    "traj_0_energy = -81372.20816708777\n",
    "traj_last_energy = -81372.11823730514\n",
    "(traj_last_energy - traj_0_energy) * 1000\n",
    "# ran again and got the last energy = -81372.13913798494 -> difference of -69.0291028295178 meV\n",
    "# simulations nondeterministic"
   ]
  },
  {
   "cell_type": "code",
   "execution_count": 4,
   "metadata": {},
   "outputs": [],
   "source": [
    "with open(\"maceoff_split_ref_energies.txt\", \"r\") as file:\n",
    "    # Read each line and strip the newline character\n",
    "    vals = [float(line.strip()) for line in file]"
   ]
  },
  {
   "cell_type": "code",
   "execution_count": 23,
   "metadata": {},
   "outputs": [
    {
     "name": "stdout",
     "output_type": "stream",
     "text": [
      "951004\n",
      "-140.80357353831337\n",
      "69.16675281685548\n",
      "-514.9567904545256\n",
      "-1.895640401984565\n",
      "0.008114582062746319\n"
     ]
    }
   ],
   "source": [
    "vals_np = np.array(vals)\n",
    "# vals_np = vals_np[vals_np > -250]\n",
    "print(len(vals_np))\n",
    "print(np.mean(vals_np))\n",
    "print(np.std(vals_np))\n",
    "print(np.min(vals_np))\n",
    "print(np.max(vals_np))\n",
    "print(np.sum(vals_np < -250) / len(vals_np))"
   ]
  },
  {
   "cell_type": "code",
   "execution_count": null,
   "metadata": {},
   "outputs": [],
   "source": [
    "mean = np.mean(vals_np)\n",
    "std = np.std(vals_np)\n",
    "standardized_data = (vals_np - mean) / std"
   ]
  },
  {
   "cell_type": "code",
   "execution_count": null,
   "metadata": {},
   "outputs": [],
   "source": [
    "log_transformed_data = np.log(np.abs(vals_np) + 1)"
   ]
  },
  {
   "cell_type": "code",
   "execution_count": 18,
   "metadata": {},
   "outputs": [
    {
     "name": "stdout",
     "output_type": "stream",
     "text": [
      "40.18202333874582\n",
      "0.0\n",
      "47.92009918928075\n"
     ]
    }
   ],
   "source": [
    "from scipy.stats import boxcox\n",
    "transformed_data, _ = boxcox(vals_np - np.min(vals_np) + 1)  # Add 1 to shift data into positive range\n",
    "print(np.mean(transformed_data))\n",
    "print(np.min(transformed_data))\n",
    "print(np.max(transformed_data))"
   ]
  },
  {
   "cell_type": "code",
   "execution_count": 17,
   "metadata": {},
   "outputs": [
    {
     "data": {
      "image/png": "[encoded data removed]",
      "text/plain": [
       "<Figure size 640x480 with 1 Axes>"
      ]
     },
     "metadata": {},
     "output_type": "display_data"
    }
   ],
   "source": [
    "plt.hist(transformed_data, bins=10, edgecolor='black')\n",
    "\n",
    "# Add labels and title\n",
    "plt.xlabel('Value')\n",
    "plt.ylabel('Frequency')\n",
    "plt.title('Histogram of Values')\n",
    "\n",
    "# Display the plot\n",
    "plt.show()"
   ]
  },
  {
   "cell_type": "code",
   "execution_count": null,
   "metadata": {},
   "outputs": [],
   "source": []
  }
 ],
 "metadata": {
  "kernelspec": {
   "display_name": "p4env2",
   "language": "python",
   "name": "python3"
  },
  "language_info": {
   "codemirror_mode": {
    "name": "ipython",
    "version": 3
   },
   "file_extension": ".py",
   "mimetype": "text/x-python",
   "name": "python",
   "nbconvert_exporter": "python",
   "pygments_lexer": "ipython3",
   "version": "3.9.18"
  }
 },
 "nbformat": 4,
 "nbformat_minor": 2
}
