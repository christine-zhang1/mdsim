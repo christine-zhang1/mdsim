{
 "cells": [
  {
   "cell_type": "code",
   "execution_count": 2,
   "metadata": {},
   "outputs": [],
   "source": [
    "import random\n",
    "from ase import Atoms\n",
    "from ase.io import Trajectory\n",
    "from pathlib import Path\n",
    "import pandas as pd\n",
    "import matplotlib.pyplot as plt\n",
    "import numpy as np\n",
    "from tqdm import tqdm\n",
    "import csv\n",
    "import os\n",
    "\n",
    "import torch\n",
    "import torch.nn as nn\n",
    "from torch.autograd.functional import jacobian\n",
    "\n",
    "random.seed(88)"
   ]
  },
  {
   "cell_type": "code",
   "execution_count": 7,
   "metadata": {},
   "outputs": [
    {
     "name": "stdout",
     "output_type": "stream",
     "text": [
      "Jacobian of force with respect to position:\n",
      " tensor([[[[ 0.0658, -0.1234, -0.0687]],\n",
      "\n",
      "         [[-0.1036,  0.1432,  0.2423]],\n",
      "\n",
      "         [[-0.0864,  0.1067,  0.0709]]]])\n"
     ]
    }
   ],
   "source": [
    "# Example: Define a simple neural network model\n",
    "class ForceModel(nn.Module):\n",
    "    def __init__(self):\n",
    "        super(ForceModel, self).__init__()\n",
    "        self.fc1 = nn.Linear(3, 10)  # Input is 3D position\n",
    "        self.fc2 = nn.Linear(10, 3)  # Output is 3D force (F_x, F_y, F_z)\n",
    "\n",
    "    def forward(self, pos):\n",
    "        x = torch.relu(self.fc1(pos))\n",
    "        return x, self.fc2(x)  # Output is a force vector of shape (3,)\n",
    "\n",
    "# Create an instance of the model\n",
    "model = ForceModel()\n",
    "\n",
    "# Example input: position tensor (batch size = 1, 3 components)\n",
    "pos = torch.tensor([[1.0, 2.0, 3.0]], requires_grad=True)\n",
    "\n",
    "# Define the force_func to use the model's forward pass\n",
    "def force_func(pos):\n",
    "    return model(pos)[1]  # Model output is the force corresponding to the position\n",
    "\n",
    "# Compute the Jacobian of the force with respect to position\n",
    "J = jacobian(force_func, pos)  # Jacobian shape will be [1, 3, 3]\n",
    "\n",
    "print(\"Jacobian of force with respect to position:\\n\", J)"
   ]
  },
  {
   "cell_type": "code",
   "execution_count": 14,
   "metadata": {},
   "outputs": [
    {
     "name": "stdout",
     "output_type": "stream",
     "text": [
      "Jacobian of F[2] w.r.t pos[2]:\n",
      " tensor([[ 0.0346, -1.0355,  1.0360],\n",
      "        [-0.6227, -0.2849, -0.5619],\n",
      "        [-1.9283, -0.2640, -0.5997]])\n"
     ]
    }
   ],
   "source": [
    "# Example data\n",
    "N = 5  # Number of rows\n",
    "pos = torch.randn(N, 3, requires_grad=True)  # Position matrix [N, 3]\n",
    "\n",
    "# Define a simple function to compute forces as a function of pos\n",
    "def compute_forces(pos):\n",
    "    # Example: forces derived from a simple linear transformation\n",
    "    return torch.matmul(pos, torch.randn(3, 3, requires_grad=True))  # [N, 3]\n",
    "\n",
    "# Compute forces based on pos\n",
    "F = compute_forces(pos)  # F depends on pos, so it has a grad_fn\n",
    "\n",
    "# Index of the row for which to compute the partial Jacobian\n",
    "i = 2  # Choose the third row (0-based indexing)\n",
    "\n",
    "# Select the row of F we're interested in\n",
    "F_i = F[i]  # Shape: [3]\n",
    "\n",
    "# Compute gradients of F_i w.r.t pos[i]\n",
    "J_i = []\n",
    "for k in range(3):  # Iterate over components of F_i\n",
    "    grad_outputs = torch.zeros_like(F)  # Shape: [N, 3]\n",
    "    grad_outputs[i, k] = 1.0  # Focus on F[i, k]\n",
    "    grad_pos = torch.autograd.grad(F, pos, grad_outputs=grad_outputs, retain_graph=True)[0]\n",
    "    J_i.append(grad_pos[i])  # Only the gradient w.r.t. pos[i]\n",
    "\n",
    "# Stack to form the 3x3 Jacobian\n",
    "J_i = torch.stack(J_i)  # Shape: [3, 3]\n",
    "\n",
    "print(\"Jacobian of F[{}] w.r.t pos[{}]:\\n\".format(i, i), J_i)\n"
   ]
  },
  {
   "cell_type": "code",
   "execution_count": null,
   "metadata": {},
   "outputs": [],
   "source": []
  }
 ],
 "metadata": {
  "kernelspec": {
   "display_name": "mdsim",
   "language": "python",
   "name": "python3"
  },
  "language_info": {
   "codemirror_mode": {
    "name": "ipython",
    "version": 3
   },
   "file_extension": ".py",
   "mimetype": "text/x-python",
   "name": "python",
   "nbconvert_exporter": "python",
   "pygments_lexer": "ipython3",
   "version": "3.9.18"
  }
 },
 "nbformat": 4,
 "nbformat_minor": 2
}
